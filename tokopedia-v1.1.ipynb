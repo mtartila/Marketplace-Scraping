{
 "cells": [
  {
   "cell_type": "code",
   "execution_count": 1,
   "id": "ca6a78bf",
   "metadata": {},
   "outputs": [],
   "source": [
    "from selenium import webdriver\n",
    "from selenium.webdriver.common.keys import Keys\n",
    "from selenium.webdriver.support import expected_conditions as EC\n",
    "from selenium.webdriver.common.by import By\n",
    "from selenium.webdriver.support.wait import WebDriverWait\n",
    "%config Completer.use_jedi = False\n",
    "import pandas as pd\n",
    "import time\n",
    "import datetime"
   ]
  },
  {
   "cell_type": "code",
   "execution_count": 2,
   "id": "61bcab54",
   "metadata": {},
   "outputs": [],
   "source": [
    "import os \n",
    "import wget\n"
   ]
  },
  {
   "cell_type": "code",
   "execution_count": 3,
   "id": "607956d4",
   "metadata": {},
   "outputs": [],
   "source": [
    "driver = webdriver.Chrome('C:/Users/Tartila/Documents/chromedriver/chromedriver.exe')\n",
    "driver.get('https://www.tokopedia.com/')"
   ]
  },
  {
   "cell_type": "code",
   "execution_count": 4,
   "id": "4d41333c",
   "metadata": {},
   "outputs": [],
   "source": [
    "searchbox = WebDriverWait(driver,10).until(EC.element_to_be_clickable((By.XPATH,\"/html/body/div[1]/div/div[1]/div/div/div[2]/div[2]/div[1]/div/div/div/input\")))\n",
    "searchbox.clear()\n",
    "keyword = \"iphone 13\"\n",
    "searchbox.send_keys(keyword)"
   ]
  },
  {
   "cell_type": "code",
   "execution_count": 5,
   "id": "917f3740",
   "metadata": {},
   "outputs": [],
   "source": [
    "searchbox.send_keys(Keys.ENTER)"
   ]
  },
  {
   "cell_type": "code",
   "execution_count": 338,
   "id": "6092b554",
   "metadata": {},
   "outputs": [],
   "source": [
    "description = []\n",
    "pricing = []\n"
   ]
  },
  {
   "cell_type": "code",
   "execution_count": 339,
   "id": "3ecc7589",
   "metadata": {},
   "outputs": [],
   "source": [
    "mains = driver.find_element_by_class_name(\"css-jza1fo\")\n",
    "boxes = mains.find_elements_by_class_name(\"css-974ipl\")"
   ]
  },
  {
   "cell_type": "code",
   "execution_count": 340,
   "id": "c3db22a4",
   "metadata": {},
   "outputs": [],
   "source": [
    "for a in boxes:\n",
    "    descs = a.find_elements_by_xpath(\"//div[contains(@class, 'prd_link-product-name css-svipq6')]\")\n",
    "    pricings = a.find_elements_by_xpath(\"//div[contains(@class, 'prd_link-product-price css-1ksb19c')]\")\n",
    "    locsold = a.find_elements_by_xpath(\"//div[contains(@class, 'css-yaxhi2')]\")"
   ]
  },
  {
   "cell_type": "code",
   "execution_count": 341,
   "id": "1e37ad2c",
   "metadata": {},
   "outputs": [],
   "source": [
    "locations = []\n",
    "ratings = []\n",
    "storenames = []\n",
    "solds = []"
   ]
  },
  {
   "cell_type": "code",
   "execution_count": 342,
   "id": "62eb07ac",
   "metadata": {},
   "outputs": [],
   "source": [
    "for x in locsold:\n",
    "    try:\n",
    "        storenames.append(x.find_element_by_xpath(\"./child::div/div/span[@class='prd_link-shop-name css-1kdc32b flip']\").text)\n",
    "    except:\n",
    "        storenames.append(\"No Data\")"
   ]
  },
  {
   "cell_type": "code",
   "execution_count": 343,
   "id": "987f3a18",
   "metadata": {},
   "outputs": [],
   "source": [
    "for x in locsold:\n",
    "    try:\n",
    "        locations.append(x.find_element_by_xpath(\"./child::div/div/span[@data-testid='spnSRPProdTabShopLoc']\").text)\n",
    "    except:\n",
    "        locations.append(\"No Data\")"
   ]
  },
  {
   "cell_type": "code",
   "execution_count": 344,
   "id": "16be8715",
   "metadata": {},
   "outputs": [],
   "source": [
    "for x in locsold:\n",
    "    try:\n",
    "        ratings.append(x.find_element_by_xpath(\"./child::div[@class='css-q9wnub']/span[@class='prd_rating-average-text css-t70v7i']\").text)\n",
    "    except:\n",
    "        ratings.append(\"No Data\")"
   ]
  },
  {
   "cell_type": "code",
   "execution_count": 345,
   "id": "b0841398",
   "metadata": {},
   "outputs": [],
   "source": [
    "for x in locsold:\n",
    "    try:\n",
    "        solds.append(x.find_element_by_xpath(\"./child::div[@class='css-q9wnub']/span[@class='prd_label-integrity css-1duhs3e']\").text)\n",
    "    except:\n",
    "        solds.append(\"Terjual 0\")"
   ]
  },
  {
   "cell_type": "code",
   "execution_count": 346,
   "id": "1acc98f5",
   "metadata": {},
   "outputs": [],
   "source": [
    "for x in range(len(descs)):\n",
    "    description.append(descs[x].text)\n",
    "    pricing.append(pricings[x].text)\n"
   ]
  },
  {
   "cell_type": "code",
   "execution_count": 352,
   "id": "d71ee5d2",
   "metadata": {
    "scrolled": false
   },
   "outputs": [
    {
     "name": "stdout",
     "output_type": "stream",
     "text": [
      "page 2\n",
      "page 3\n",
      "page 4\n",
      "page 5\n",
      "page 6\n",
      "page 7\n",
      "page 8\n",
      "page 9\n",
      "page 10\n",
      "page 11\n",
      "page 12\n",
      "page 13\n",
      "page 14\n",
      "page 15\n",
      "page 16\n",
      "page 17\n",
      "page 18\n",
      "page 19\n",
      "page 20\n",
      "page 21\n",
      "page 22\n",
      "page 23\n",
      "page 24\n",
      "page 25\n",
      "page 26\n",
      "page 27\n",
      "page 28\n",
      "page 29\n",
      "page 30\n",
      "page 31\n",
      "page 32\n",
      "page 33\n",
      "page 34\n",
      "page 35\n",
      "page 36\n",
      "page 37\n",
      "page 38\n",
      "page 39\n",
      "page 40\n",
      "page 41\n",
      "page 42\n",
      "page 43\n",
      "page 44\n",
      "page 45\n",
      "page 46\n",
      "page 47\n",
      "page 48\n",
      "page 49\n",
      "page 50\n",
      "page 51\n",
      "page 52\n",
      "page 53\n",
      "page 54\n",
      "page 55\n",
      "page 56\n",
      "page 57\n",
      "page 58\n",
      "page 59\n",
      "page 60\n",
      "page 61\n",
      "page 62\n",
      "page 63\n",
      "page 64\n",
      "page 65\n",
      "page 66\n",
      "page 67\n",
      "page 68\n",
      "page 69\n",
      "page 70\n",
      "page 71\n",
      "page 72\n"
     ]
    },
    {
     "ename": "NoSuchElementException",
     "evalue": "Message: no such element: Unable to locate element: {\"method\":\"css selector\",\"selector\":\".css-jza1fo\"}\n  (Session info: chrome=105.0.5195.102)\n",
     "output_type": "error",
     "traceback": [
      "\u001b[1;31m---------------------------------------------------------------------------\u001b[0m",
      "\u001b[1;31mNoSuchElementException\u001b[0m                    Traceback (most recent call last)",
      "\u001b[1;32m~\\AppData\\Local\\Temp/ipykernel_3284/1569253236.py\u001b[0m in \u001b[0;36m<module>\u001b[1;34m\u001b[0m\n\u001b[0;32m      7\u001b[0m     \u001b[0mpage\u001b[0m \u001b[1;33m+=\u001b[0m \u001b[1;36m1\u001b[0m\u001b[1;33m\u001b[0m\u001b[1;33m\u001b[0m\u001b[0m\n\u001b[0;32m      8\u001b[0m     \u001b[0mprint\u001b[0m\u001b[1;33m(\u001b[0m\u001b[1;34mf\"page {page}\"\u001b[0m\u001b[1;33m)\u001b[0m\u001b[1;33m\u001b[0m\u001b[1;33m\u001b[0m\u001b[0m\n\u001b[1;32m----> 9\u001b[1;33m     \u001b[0mmains\u001b[0m \u001b[1;33m=\u001b[0m \u001b[0mdriver\u001b[0m\u001b[1;33m.\u001b[0m\u001b[0mfind_element_by_class_name\u001b[0m\u001b[1;33m(\u001b[0m\u001b[1;34m\"css-jza1fo\"\u001b[0m\u001b[1;33m)\u001b[0m\u001b[1;33m\u001b[0m\u001b[1;33m\u001b[0m\u001b[0m\n\u001b[0m\u001b[0;32m     10\u001b[0m     \u001b[0mboxes\u001b[0m \u001b[1;33m=\u001b[0m \u001b[0mmains\u001b[0m\u001b[1;33m.\u001b[0m\u001b[0mfind_elements_by_class_name\u001b[0m\u001b[1;33m(\u001b[0m\u001b[1;34m\"css-974ipl\"\u001b[0m\u001b[1;33m)\u001b[0m\u001b[1;33m\u001b[0m\u001b[1;33m\u001b[0m\u001b[0m\n\u001b[0;32m     11\u001b[0m     \u001b[1;32mfor\u001b[0m \u001b[0ma\u001b[0m \u001b[1;32min\u001b[0m \u001b[0mboxes\u001b[0m\u001b[1;33m:\u001b[0m\u001b[1;33m\u001b[0m\u001b[1;33m\u001b[0m\u001b[0m\n",
      "\u001b[1;32m~\\anaconda3\\envs\\tfdeeplearning\\lib\\site-packages\\selenium\\webdriver\\remote\\webdriver.py\u001b[0m in \u001b[0;36mfind_element_by_class_name\u001b[1;34m(self, name)\u001b[0m\n\u001b[0;32m    562\u001b[0m             \u001b[0melement\u001b[0m \u001b[1;33m=\u001b[0m \u001b[0mdriver\u001b[0m\u001b[1;33m.\u001b[0m\u001b[0mfind_element_by_class_name\u001b[0m\u001b[1;33m(\u001b[0m\u001b[1;34m'foo'\u001b[0m\u001b[1;33m)\u001b[0m\u001b[1;33m\u001b[0m\u001b[1;33m\u001b[0m\u001b[0m\n\u001b[0;32m    563\u001b[0m         \"\"\"\n\u001b[1;32m--> 564\u001b[1;33m         \u001b[1;32mreturn\u001b[0m \u001b[0mself\u001b[0m\u001b[1;33m.\u001b[0m\u001b[0mfind_element\u001b[0m\u001b[1;33m(\u001b[0m\u001b[0mby\u001b[0m\u001b[1;33m=\u001b[0m\u001b[0mBy\u001b[0m\u001b[1;33m.\u001b[0m\u001b[0mCLASS_NAME\u001b[0m\u001b[1;33m,\u001b[0m \u001b[0mvalue\u001b[0m\u001b[1;33m=\u001b[0m\u001b[0mname\u001b[0m\u001b[1;33m)\u001b[0m\u001b[1;33m\u001b[0m\u001b[1;33m\u001b[0m\u001b[0m\n\u001b[0m\u001b[0;32m    565\u001b[0m \u001b[1;33m\u001b[0m\u001b[0m\n\u001b[0;32m    566\u001b[0m     \u001b[1;32mdef\u001b[0m \u001b[0mfind_elements_by_class_name\u001b[0m\u001b[1;33m(\u001b[0m\u001b[0mself\u001b[0m\u001b[1;33m,\u001b[0m \u001b[0mname\u001b[0m\u001b[1;33m)\u001b[0m\u001b[1;33m:\u001b[0m\u001b[1;33m\u001b[0m\u001b[1;33m\u001b[0m\u001b[0m\n",
      "\u001b[1;32m~\\anaconda3\\envs\\tfdeeplearning\\lib\\site-packages\\selenium\\webdriver\\remote\\webdriver.py\u001b[0m in \u001b[0;36mfind_element\u001b[1;34m(self, by, value)\u001b[0m\n\u001b[0;32m    974\u001b[0m                 \u001b[0mby\u001b[0m \u001b[1;33m=\u001b[0m \u001b[0mBy\u001b[0m\u001b[1;33m.\u001b[0m\u001b[0mCSS_SELECTOR\u001b[0m\u001b[1;33m\u001b[0m\u001b[1;33m\u001b[0m\u001b[0m\n\u001b[0;32m    975\u001b[0m                 \u001b[0mvalue\u001b[0m \u001b[1;33m=\u001b[0m \u001b[1;34m'[name=\"%s\"]'\u001b[0m \u001b[1;33m%\u001b[0m \u001b[0mvalue\u001b[0m\u001b[1;33m\u001b[0m\u001b[1;33m\u001b[0m\u001b[0m\n\u001b[1;32m--> 976\u001b[1;33m         return self.execute(Command.FIND_ELEMENT, {\n\u001b[0m\u001b[0;32m    977\u001b[0m             \u001b[1;34m'using'\u001b[0m\u001b[1;33m:\u001b[0m \u001b[0mby\u001b[0m\u001b[1;33m,\u001b[0m\u001b[1;33m\u001b[0m\u001b[1;33m\u001b[0m\u001b[0m\n\u001b[0;32m    978\u001b[0m             'value': value})['value']\n",
      "\u001b[1;32m~\\anaconda3\\envs\\tfdeeplearning\\lib\\site-packages\\selenium\\webdriver\\remote\\webdriver.py\u001b[0m in \u001b[0;36mexecute\u001b[1;34m(self, driver_command, params)\u001b[0m\n\u001b[0;32m    319\u001b[0m         \u001b[0mresponse\u001b[0m \u001b[1;33m=\u001b[0m \u001b[0mself\u001b[0m\u001b[1;33m.\u001b[0m\u001b[0mcommand_executor\u001b[0m\u001b[1;33m.\u001b[0m\u001b[0mexecute\u001b[0m\u001b[1;33m(\u001b[0m\u001b[0mdriver_command\u001b[0m\u001b[1;33m,\u001b[0m \u001b[0mparams\u001b[0m\u001b[1;33m)\u001b[0m\u001b[1;33m\u001b[0m\u001b[1;33m\u001b[0m\u001b[0m\n\u001b[0;32m    320\u001b[0m         \u001b[1;32mif\u001b[0m \u001b[0mresponse\u001b[0m\u001b[1;33m:\u001b[0m\u001b[1;33m\u001b[0m\u001b[1;33m\u001b[0m\u001b[0m\n\u001b[1;32m--> 321\u001b[1;33m             \u001b[0mself\u001b[0m\u001b[1;33m.\u001b[0m\u001b[0merror_handler\u001b[0m\u001b[1;33m.\u001b[0m\u001b[0mcheck_response\u001b[0m\u001b[1;33m(\u001b[0m\u001b[0mresponse\u001b[0m\u001b[1;33m)\u001b[0m\u001b[1;33m\u001b[0m\u001b[1;33m\u001b[0m\u001b[0m\n\u001b[0m\u001b[0;32m    322\u001b[0m             response['value'] = self._unwrap_value(\n\u001b[0;32m    323\u001b[0m                 response.get('value', None))\n",
      "\u001b[1;32m~\\anaconda3\\envs\\tfdeeplearning\\lib\\site-packages\\selenium\\webdriver\\remote\\errorhandler.py\u001b[0m in \u001b[0;36mcheck_response\u001b[1;34m(self, response)\u001b[0m\n\u001b[0;32m    240\u001b[0m                 \u001b[0malert_text\u001b[0m \u001b[1;33m=\u001b[0m \u001b[0mvalue\u001b[0m\u001b[1;33m[\u001b[0m\u001b[1;34m'alert'\u001b[0m\u001b[1;33m]\u001b[0m\u001b[1;33m.\u001b[0m\u001b[0mget\u001b[0m\u001b[1;33m(\u001b[0m\u001b[1;34m'text'\u001b[0m\u001b[1;33m)\u001b[0m\u001b[1;33m\u001b[0m\u001b[1;33m\u001b[0m\u001b[0m\n\u001b[0;32m    241\u001b[0m             \u001b[1;32mraise\u001b[0m \u001b[0mexception_class\u001b[0m\u001b[1;33m(\u001b[0m\u001b[0mmessage\u001b[0m\u001b[1;33m,\u001b[0m \u001b[0mscreen\u001b[0m\u001b[1;33m,\u001b[0m \u001b[0mstacktrace\u001b[0m\u001b[1;33m,\u001b[0m \u001b[0malert_text\u001b[0m\u001b[1;33m)\u001b[0m\u001b[1;33m\u001b[0m\u001b[1;33m\u001b[0m\u001b[0m\n\u001b[1;32m--> 242\u001b[1;33m         \u001b[1;32mraise\u001b[0m \u001b[0mexception_class\u001b[0m\u001b[1;33m(\u001b[0m\u001b[0mmessage\u001b[0m\u001b[1;33m,\u001b[0m \u001b[0mscreen\u001b[0m\u001b[1;33m,\u001b[0m \u001b[0mstacktrace\u001b[0m\u001b[1;33m)\u001b[0m\u001b[1;33m\u001b[0m\u001b[1;33m\u001b[0m\u001b[0m\n\u001b[0m\u001b[0;32m    243\u001b[0m \u001b[1;33m\u001b[0m\u001b[0m\n\u001b[0;32m    244\u001b[0m     \u001b[1;32mdef\u001b[0m \u001b[0m_value_or_default\u001b[0m\u001b[1;33m(\u001b[0m\u001b[0mself\u001b[0m\u001b[1;33m,\u001b[0m \u001b[0mobj\u001b[0m\u001b[1;33m,\u001b[0m \u001b[0mkey\u001b[0m\u001b[1;33m,\u001b[0m \u001b[0mdefault\u001b[0m\u001b[1;33m)\u001b[0m\u001b[1;33m:\u001b[0m\u001b[1;33m\u001b[0m\u001b[1;33m\u001b[0m\u001b[0m\n",
      "\u001b[1;31mNoSuchElementException\u001b[0m: Message: no such element: Unable to locate element: {\"method\":\"css selector\",\"selector\":\".css-jza1fo\"}\n  (Session info: chrome=105.0.5195.102)\n"
     ]
    }
   ],
   "source": [
    "\n",
    "page = 1\n",
    "for iteration in range(0,10000,1):\n",
    "    element = WebDriverWait(driver, 20).until(\n",
    "    EC.element_to_be_clickable((By.XPATH, \"//button[@aria-label='Laman berikutnya']\")))\n",
    "    element.click()\n",
    "    time.sleep(2)\n",
    "    page += 1\n",
    "    print(f\"page {page}\")\n",
    "    mains = driver.find_element_by_class_name(\"css-jza1fo\")\n",
    "    boxes = mains.find_elements_by_class_name(\"css-974ipl\")\n",
    "    for a in boxes:\n",
    "        descs = a.find_elements_by_xpath(\"//div[contains(@class, 'prd_link-product-name css-svipq6')]\")\n",
    "        pricings = a.find_elements_by_xpath(\"//div[contains(@class, 'prd_link-product-price css-1ksb19c')]\")\n",
    "        locsold = a.find_elements_by_xpath(\"//div[contains(@class, 'css-yaxhi2')]\")\n",
    "    for x in range(len(descs)):\n",
    "        description.append(descs[x].text)\n",
    "        pricing.append(pricings[x].text)\n",
    "    for x in locsold:\n",
    "        try:\n",
    "            storenames.append(x.find_element_by_xpath(\"./child::div/div/span[@class='prd_link-shop-name css-1kdc32b flip']\").text)\n",
    "        except:\n",
    "            storenames.append(\"No Data\")\n",
    "    for x in locsold:\n",
    "        try:\n",
    "            locations.append(x.find_element_by_xpath(\"./child::div/div/span[@data-testid='spnSRPProdTabShopLoc']\").text)\n",
    "        except:\n",
    "            locations.append(\"No Data\")\n",
    "    for x in locsold:\n",
    "        try:\n",
    "            ratings.append(x.find_element_by_xpath(\"./child::div[@class='css-q9wnub']/span[@class='prd_rating-average-text css-t70v7i']\").text)\n",
    "        except:\n",
    "            ratings.append(\"No Data\")\n",
    "    for x in locsold:\n",
    "        try:\n",
    "            solds.append(x.find_element_by_xpath(\"./child::div[@class='css-q9wnub']/span[@class='prd_label-integrity css-1duhs3e']\").text)\n",
    "        except:\n",
    "            solds.append(\"Terjual 0\")"
   ]
  },
  {
   "cell_type": "markdown",
   "id": "00d90279",
   "metadata": {},
   "source": [
    "RUNTIME = 26m29s62"
   ]
  },
  {
   "cell_type": "code",
   "execution_count": 353,
   "id": "915222cf",
   "metadata": {},
   "outputs": [],
   "source": [
    "df = pd.DataFrame()"
   ]
  },
  {
   "cell_type": "code",
   "execution_count": 354,
   "id": "29749936",
   "metadata": {},
   "outputs": [],
   "source": [
    "df['description'] = description\n",
    "df['pricing'] = pricing\n",
    "df['locations'] = locations\n",
    "df['solds'] = solds\n",
    "df['ratings'] = ratings\n",
    "df['storenames'] = storenames"
   ]
  },
  {
   "cell_type": "code",
   "execution_count": 355,
   "id": "3e741b69",
   "metadata": {
    "scrolled": true
   },
   "outputs": [
    {
     "data": {
      "text/html": [
       "<div>\n",
       "<style scoped>\n",
       "    .dataframe tbody tr th:only-of-type {\n",
       "        vertical-align: middle;\n",
       "    }\n",
       "\n",
       "    .dataframe tbody tr th {\n",
       "        vertical-align: top;\n",
       "    }\n",
       "\n",
       "    .dataframe thead th {\n",
       "        text-align: right;\n",
       "    }\n",
       "</style>\n",
       "<table border=\"1\" class=\"dataframe\">\n",
       "  <thead>\n",
       "    <tr style=\"text-align: right;\">\n",
       "      <th></th>\n",
       "      <th>description</th>\n",
       "      <th>pricing</th>\n",
       "      <th>locations</th>\n",
       "      <th>solds</th>\n",
       "      <th>ratings</th>\n",
       "      <th>storenames</th>\n",
       "    </tr>\n",
       "  </thead>\n",
       "  <tbody>\n",
       "    <tr>\n",
       "      <th>0</th>\n",
       "      <td>(OFFICIAL) Iphone 13 Pro Max 256GB - Gold</td>\n",
       "      <td>Rp 20.499.000</td>\n",
       "      <td>No Data</td>\n",
       "      <td>Terjual 8</td>\n",
       "      <td>5.0</td>\n",
       "      <td>No Data</td>\n",
       "    </tr>\n",
       "    <tr>\n",
       "      <th>1</th>\n",
       "      <td>Iphone 13 512GB - Red</td>\n",
       "      <td>Rp 17.499.000</td>\n",
       "      <td>No Data</td>\n",
       "      <td>Terjual 1</td>\n",
       "      <td>No Data</td>\n",
       "      <td>No Data</td>\n",
       "    </tr>\n",
       "    <tr>\n",
       "      <th>2</th>\n",
       "      <td>New iPhone 13 128 / 256 / 512 Starlight, Midni...</td>\n",
       "      <td>Rp12.899.000</td>\n",
       "      <td>Jakarta Pusat</td>\n",
       "      <td>Terjual 750+</td>\n",
       "      <td>4.9</td>\n",
       "      <td>tokohapedia</td>\n",
       "    </tr>\n",
       "    <tr>\n",
       "      <th>3</th>\n",
       "      <td>(ORIGINAL) Benks Aramid Kevlar Magsafe for Iph...</td>\n",
       "      <td>Rp799.000</td>\n",
       "      <td>Jakarta Pusat</td>\n",
       "      <td>Terjual 10</td>\n",
       "      <td>5.0</td>\n",
       "      <td>Putra Group</td>\n",
       "    </tr>\n",
       "    <tr>\n",
       "      <th>4</th>\n",
       "      <td>New iPhone 13 Pro 256 / 512 / 1TB Graphite, Go...</td>\n",
       "      <td>Rp16.829.000</td>\n",
       "      <td>Jakarta Pusat</td>\n",
       "      <td>Terjual 750+</td>\n",
       "      <td>4.9</td>\n",
       "      <td>tokohapedia</td>\n",
       "    </tr>\n",
       "    <tr>\n",
       "      <th>...</th>\n",
       "      <td>...</td>\n",
       "      <td>...</td>\n",
       "      <td>...</td>\n",
       "      <td>...</td>\n",
       "      <td>...</td>\n",
       "      <td>...</td>\n",
       "    </tr>\n",
       "    <tr>\n",
       "      <th>5667</th>\n",
       "      <td>(IBOX) IPHONE 13 PRO / PROMAX 1TB / 512 / 256 ...</td>\n",
       "      <td>Rp17.250.000</td>\n",
       "      <td>Jakarta Pusat</td>\n",
       "      <td>Terjual 3</td>\n",
       "      <td>5.0</td>\n",
       "      <td>iStuffOriginal</td>\n",
       "    </tr>\n",
       "    <tr>\n",
       "      <th>5668</th>\n",
       "      <td>iPhone 13 128GB | 256GB | 512GB Series - Garan...</td>\n",
       "      <td>Rp15.499.000</td>\n",
       "      <td>Surabaya</td>\n",
       "      <td>Terjual 26</td>\n",
       "      <td>5.0</td>\n",
       "      <td>Gadget Point Store</td>\n",
       "    </tr>\n",
       "    <tr>\n",
       "      <th>5669</th>\n",
       "      <td>iphone 13 mini ibox</td>\n",
       "      <td>Rp13.500.000</td>\n",
       "      <td>Blitar</td>\n",
       "      <td>Terjual 0</td>\n",
       "      <td>No Data</td>\n",
       "      <td>Bubuk Minuman Blitar</td>\n",
       "    </tr>\n",
       "    <tr>\n",
       "      <th>5670</th>\n",
       "      <td>(iBox) iPhone 13 Pro Max 2022 Dual Sim 1TB 512...</td>\n",
       "      <td>Rp18.780.000</td>\n",
       "      <td>Jakarta Pusat</td>\n",
       "      <td>Terjual 12</td>\n",
       "      <td>5.0</td>\n",
       "      <td>MisterPonsel</td>\n",
       "    </tr>\n",
       "    <tr>\n",
       "      <th>5671</th>\n",
       "      <td>(IDN)iPhone 13 Mini 128GB 256GB 512GB Red Star...</td>\n",
       "      <td>Rp12.499.999</td>\n",
       "      <td>Surabaya</td>\n",
       "      <td>Terjual 40+</td>\n",
       "      <td>5.0</td>\n",
       "      <td>Apple International</td>\n",
       "    </tr>\n",
       "  </tbody>\n",
       "</table>\n",
       "<p>5672 rows × 6 columns</p>\n",
       "</div>"
      ],
      "text/plain": [
       "                                            description        pricing  \\\n",
       "0             (OFFICIAL) Iphone 13 Pro Max 256GB - Gold  Rp 20.499.000   \n",
       "1                                 Iphone 13 512GB - Red  Rp 17.499.000   \n",
       "2     New iPhone 13 128 / 256 / 512 Starlight, Midni...   Rp12.899.000   \n",
       "3     (ORIGINAL) Benks Aramid Kevlar Magsafe for Iph...      Rp799.000   \n",
       "4     New iPhone 13 Pro 256 / 512 / 1TB Graphite, Go...   Rp16.829.000   \n",
       "...                                                 ...            ...   \n",
       "5667  (IBOX) IPHONE 13 PRO / PROMAX 1TB / 512 / 256 ...   Rp17.250.000   \n",
       "5668  iPhone 13 128GB | 256GB | 512GB Series - Garan...   Rp15.499.000   \n",
       "5669                                iphone 13 mini ibox   Rp13.500.000   \n",
       "5670  (iBox) iPhone 13 Pro Max 2022 Dual Sim 1TB 512...   Rp18.780.000   \n",
       "5671  (IDN)iPhone 13 Mini 128GB 256GB 512GB Red Star...   Rp12.499.999   \n",
       "\n",
       "          locations         solds  ratings            storenames  \n",
       "0           No Data     Terjual 8      5.0               No Data  \n",
       "1           No Data     Terjual 1  No Data               No Data  \n",
       "2     Jakarta Pusat  Terjual 750+      4.9           tokohapedia  \n",
       "3     Jakarta Pusat    Terjual 10      5.0           Putra Group  \n",
       "4     Jakarta Pusat  Terjual 750+      4.9           tokohapedia  \n",
       "...             ...           ...      ...                   ...  \n",
       "5667  Jakarta Pusat     Terjual 3      5.0        iStuffOriginal  \n",
       "5668       Surabaya    Terjual 26      5.0    Gadget Point Store  \n",
       "5669         Blitar     Terjual 0  No Data  Bubuk Minuman Blitar  \n",
       "5670  Jakarta Pusat    Terjual 12      5.0          MisterPonsel  \n",
       "5671       Surabaya   Terjual 40+      5.0   Apple International  \n",
       "\n",
       "[5672 rows x 6 columns]"
      ]
     },
     "execution_count": 355,
     "metadata": {},
     "output_type": "execute_result"
    }
   ],
   "source": [
    "df"
   ]
  },
  {
   "cell_type": "code",
   "execution_count": 356,
   "id": "8d19cdec",
   "metadata": {},
   "outputs": [],
   "source": [
    "df.to_csv(\"list_iphone13_tokped.csv\")"
   ]
  },
  {
   "cell_type": "code",
   "execution_count": 357,
   "id": "df7fab44",
   "metadata": {
    "scrolled": true
   },
   "outputs": [
    {
     "name": "stdout",
     "output_type": "stream",
     "text": [
      "<class 'pandas.core.frame.DataFrame'>\n",
      "RangeIndex: 5672 entries, 0 to 5671\n",
      "Data columns (total 6 columns):\n",
      " #   Column       Non-Null Count  Dtype \n",
      "---  ------       --------------  ----- \n",
      " 0   description  5672 non-null   object\n",
      " 1   pricing      5672 non-null   object\n",
      " 2   locations    5672 non-null   object\n",
      " 3   solds        5672 non-null   object\n",
      " 4   ratings      5672 non-null   object\n",
      " 5   storenames   5672 non-null   object\n",
      "dtypes: object(6)\n",
      "memory usage: 266.0+ KB\n"
     ]
    }
   ],
   "source": [
    "df.info()"
   ]
  },
  {
   "cell_type": "markdown",
   "id": "a288f1e4",
   "metadata": {},
   "source": [
    "# DROPPING DUPLICATED DATA SCRAPED"
   ]
  },
  {
   "cell_type": "code",
   "execution_count": 359,
   "id": "730d16c1",
   "metadata": {},
   "outputs": [],
   "source": [
    "df.drop_duplicates(inplace=True,ignore_index=True)"
   ]
  },
  {
   "cell_type": "code",
   "execution_count": 360,
   "id": "9190fe92",
   "metadata": {},
   "outputs": [
    {
     "data": {
      "text/html": [
       "<div>\n",
       "<style scoped>\n",
       "    .dataframe tbody tr th:only-of-type {\n",
       "        vertical-align: middle;\n",
       "    }\n",
       "\n",
       "    .dataframe tbody tr th {\n",
       "        vertical-align: top;\n",
       "    }\n",
       "\n",
       "    .dataframe thead th {\n",
       "        text-align: right;\n",
       "    }\n",
       "</style>\n",
       "<table border=\"1\" class=\"dataframe\">\n",
       "  <thead>\n",
       "    <tr style=\"text-align: right;\">\n",
       "      <th></th>\n",
       "      <th>description</th>\n",
       "      <th>pricing</th>\n",
       "      <th>locations</th>\n",
       "      <th>solds</th>\n",
       "      <th>ratings</th>\n",
       "      <th>storenames</th>\n",
       "    </tr>\n",
       "  </thead>\n",
       "  <tbody>\n",
       "    <tr>\n",
       "      <th>0</th>\n",
       "      <td>(OFFICIAL) Iphone 13 Pro Max 256GB - Gold</td>\n",
       "      <td>Rp 20.499.000</td>\n",
       "      <td>No Data</td>\n",
       "      <td>Terjual 8</td>\n",
       "      <td>5.0</td>\n",
       "      <td>No Data</td>\n",
       "    </tr>\n",
       "    <tr>\n",
       "      <th>1</th>\n",
       "      <td>Iphone 13 512GB - Red</td>\n",
       "      <td>Rp 17.499.000</td>\n",
       "      <td>No Data</td>\n",
       "      <td>Terjual 1</td>\n",
       "      <td>No Data</td>\n",
       "      <td>No Data</td>\n",
       "    </tr>\n",
       "    <tr>\n",
       "      <th>2</th>\n",
       "      <td>New iPhone 13 128 / 256 / 512 Starlight, Midni...</td>\n",
       "      <td>Rp12.899.000</td>\n",
       "      <td>Jakarta Pusat</td>\n",
       "      <td>Terjual 750+</td>\n",
       "      <td>4.9</td>\n",
       "      <td>tokohapedia</td>\n",
       "    </tr>\n",
       "    <tr>\n",
       "      <th>3</th>\n",
       "      <td>(ORIGINAL) Benks Aramid Kevlar Magsafe for Iph...</td>\n",
       "      <td>Rp799.000</td>\n",
       "      <td>Jakarta Pusat</td>\n",
       "      <td>Terjual 10</td>\n",
       "      <td>5.0</td>\n",
       "      <td>Putra Group</td>\n",
       "    </tr>\n",
       "    <tr>\n",
       "      <th>4</th>\n",
       "      <td>New iPhone 13 Pro 256 / 512 / 1TB Graphite, Go...</td>\n",
       "      <td>Rp16.829.000</td>\n",
       "      <td>Jakarta Pusat</td>\n",
       "      <td>Terjual 750+</td>\n",
       "      <td>4.9</td>\n",
       "      <td>tokohapedia</td>\n",
       "    </tr>\n",
       "    <tr>\n",
       "      <th>...</th>\n",
       "      <td>...</td>\n",
       "      <td>...</td>\n",
       "      <td>...</td>\n",
       "      <td>...</td>\n",
       "      <td>...</td>\n",
       "      <td>...</td>\n",
       "    </tr>\n",
       "    <tr>\n",
       "      <th>4187</th>\n",
       "      <td>iphone 13 promax 128gb ibox</td>\n",
       "      <td>Rp20.000.000</td>\n",
       "      <td>Kab. Minahasa Selatan</td>\n",
       "      <td>Terjual 2</td>\n",
       "      <td>5.0</td>\n",
       "      <td>Peto Store</td>\n",
       "    </tr>\n",
       "    <tr>\n",
       "      <th>4188</th>\n",
       "      <td>Iphone 13 256gb IBOX NEW</td>\n",
       "      <td>Rp17.299.000</td>\n",
       "      <td>Palu</td>\n",
       "      <td>Terjual 0</td>\n",
       "      <td>No Data</td>\n",
       "      <td>Atlantis Mega Store</td>\n",
       "    </tr>\n",
       "    <tr>\n",
       "      <th>4189</th>\n",
       "      <td>iPhone 13 128 GB Garansi Resmi iBox</td>\n",
       "      <td>Rp13.599.000</td>\n",
       "      <td>Langsa</td>\n",
       "      <td>Terjual 0</td>\n",
       "      <td>No Data</td>\n",
       "      <td>Ahmad Sofyan</td>\n",
       "    </tr>\n",
       "    <tr>\n",
       "      <th>4190</th>\n",
       "      <td>Apple iPhone 13 - GARANSI RESMI</td>\n",
       "      <td>Rp17.299.000</td>\n",
       "      <td>Kendari</td>\n",
       "      <td>Terjual 0</td>\n",
       "      <td>No Data</td>\n",
       "      <td>mokku</td>\n",
       "    </tr>\n",
       "    <tr>\n",
       "      <th>4191</th>\n",
       "      <td>Iphone 13 Basic 256 Ibox Garansi Des 22</td>\n",
       "      <td>Rp13.499.000</td>\n",
       "      <td>Kendari</td>\n",
       "      <td>Terjual 0</td>\n",
       "      <td>No Data</td>\n",
       "      <td>Mulia Phone Store</td>\n",
       "    </tr>\n",
       "  </tbody>\n",
       "</table>\n",
       "<p>4192 rows × 6 columns</p>\n",
       "</div>"
      ],
      "text/plain": [
       "                                            description        pricing  \\\n",
       "0             (OFFICIAL) Iphone 13 Pro Max 256GB - Gold  Rp 20.499.000   \n",
       "1                                 Iphone 13 512GB - Red  Rp 17.499.000   \n",
       "2     New iPhone 13 128 / 256 / 512 Starlight, Midni...   Rp12.899.000   \n",
       "3     (ORIGINAL) Benks Aramid Kevlar Magsafe for Iph...      Rp799.000   \n",
       "4     New iPhone 13 Pro 256 / 512 / 1TB Graphite, Go...   Rp16.829.000   \n",
       "...                                                 ...            ...   \n",
       "4187                        iphone 13 promax 128gb ibox   Rp20.000.000   \n",
       "4188                           Iphone 13 256gb IBOX NEW   Rp17.299.000   \n",
       "4189                iPhone 13 128 GB Garansi Resmi iBox   Rp13.599.000   \n",
       "4190                    Apple iPhone 13 - GARANSI RESMI   Rp17.299.000   \n",
       "4191            Iphone 13 Basic 256 Ibox Garansi Des 22   Rp13.499.000   \n",
       "\n",
       "                  locations         solds  ratings           storenames  \n",
       "0                   No Data     Terjual 8      5.0              No Data  \n",
       "1                   No Data     Terjual 1  No Data              No Data  \n",
       "2             Jakarta Pusat  Terjual 750+      4.9          tokohapedia  \n",
       "3             Jakarta Pusat    Terjual 10      5.0          Putra Group  \n",
       "4             Jakarta Pusat  Terjual 750+      4.9          tokohapedia  \n",
       "...                     ...           ...      ...                  ...  \n",
       "4187  Kab. Minahasa Selatan     Terjual 2      5.0           Peto Store  \n",
       "4188                   Palu     Terjual 0  No Data  Atlantis Mega Store  \n",
       "4189                 Langsa     Terjual 0  No Data         Ahmad Sofyan  \n",
       "4190                Kendari     Terjual 0  No Data                mokku  \n",
       "4191                Kendari     Terjual 0  No Data    Mulia Phone Store  \n",
       "\n",
       "[4192 rows x 6 columns]"
      ]
     },
     "execution_count": 360,
     "metadata": {},
     "output_type": "execute_result"
    }
   ],
   "source": [
    "df"
   ]
  },
  {
   "cell_type": "code",
   "execution_count": 366,
   "id": "d2901d16",
   "metadata": {},
   "outputs": [
    {
     "ename": "AttributeError",
     "evalue": "'str' object has no attribute 'str'",
     "output_type": "error",
     "traceback": [
      "\u001b[1;31m---------------------------------------------------------------------------\u001b[0m",
      "\u001b[1;31mAttributeError\u001b[0m                            Traceback (most recent call last)",
      "\u001b[1;32m~\\AppData\\Local\\Temp/ipykernel_3284/562398917.py\u001b[0m in \u001b[0;36m<module>\u001b[1;34m\u001b[0m\n\u001b[1;32m----> 1\u001b[1;33m \u001b[0mdf\u001b[0m\u001b[1;33m[\u001b[0m\u001b[0mdf\u001b[0m\u001b[1;33m.\u001b[0m\u001b[0mcolumns\u001b[0m\u001b[1;33m[\u001b[0m\u001b[1;36m1\u001b[0m\u001b[1;33m]\u001b[0m\u001b[1;33m]\u001b[0m \u001b[1;33m=\u001b[0m \u001b[0mdf\u001b[0m\u001b[1;33m[\u001b[0m\u001b[0mdf\u001b[0m\u001b[1;33m.\u001b[0m\u001b[0mcolumns\u001b[0m\u001b[1;33m[\u001b[0m\u001b[1;36m1\u001b[0m\u001b[1;33m]\u001b[0m\u001b[1;33m]\u001b[0m\u001b[1;33m.\u001b[0m\u001b[0mapply\u001b[0m\u001b[1;33m(\u001b[0m\u001b[1;32mlambda\u001b[0m \u001b[0mx\u001b[0m\u001b[1;33m:\u001b[0m \u001b[0mx\u001b[0m\u001b[1;33m.\u001b[0m\u001b[0mstr\u001b[0m\u001b[1;33m.\u001b[0m\u001b[0mreplace\u001b[0m\u001b[1;33m(\u001b[0m\u001b[1;34m'Rp'\u001b[0m\u001b[1;33m,\u001b[0m\u001b[1;34m''\u001b[0m\u001b[1;33m)\u001b[0m\u001b[1;33m)\u001b[0m\u001b[1;33m.\u001b[0m\u001b[0mapply\u001b[0m\u001b[1;33m(\u001b[0m\u001b[1;32mlambda\u001b[0m \u001b[0mx\u001b[0m\u001b[1;33m:\u001b[0m \u001b[0mx\u001b[0m\u001b[1;33m.\u001b[0m\u001b[0mstr\u001b[0m\u001b[1;33m.\u001b[0m\u001b[0mreplace\u001b[0m\u001b[1;33m(\u001b[0m\u001b[1;34m'.'\u001b[0m\u001b[1;33m,\u001b[0m\u001b[1;34m''\u001b[0m\u001b[1;33m)\u001b[0m\u001b[1;33m)\u001b[0m\u001b[1;33m.\u001b[0m\u001b[0mastype\u001b[0m\u001b[1;33m(\u001b[0m\u001b[0mnp\u001b[0m\u001b[1;33m.\u001b[0m\u001b[0mfloat\u001b[0m\u001b[1;33m)\u001b[0m\u001b[1;33m\u001b[0m\u001b[1;33m\u001b[0m\u001b[0m\n\u001b[0m",
      "\u001b[1;32m~\\anaconda3\\envs\\tfdeeplearning\\lib\\site-packages\\pandas\\core\\series.py\u001b[0m in \u001b[0;36mapply\u001b[1;34m(self, func, convert_dtype, args, **kwds)\u001b[0m\n\u001b[0;32m   4136\u001b[0m             \u001b[1;32melse\u001b[0m\u001b[1;33m:\u001b[0m\u001b[1;33m\u001b[0m\u001b[1;33m\u001b[0m\u001b[0m\n\u001b[0;32m   4137\u001b[0m                 \u001b[0mvalues\u001b[0m \u001b[1;33m=\u001b[0m \u001b[0mself\u001b[0m\u001b[1;33m.\u001b[0m\u001b[0mastype\u001b[0m\u001b[1;33m(\u001b[0m\u001b[0mobject\u001b[0m\u001b[1;33m)\u001b[0m\u001b[1;33m.\u001b[0m\u001b[0m_values\u001b[0m\u001b[1;33m\u001b[0m\u001b[1;33m\u001b[0m\u001b[0m\n\u001b[1;32m-> 4138\u001b[1;33m                 \u001b[0mmapped\u001b[0m \u001b[1;33m=\u001b[0m \u001b[0mlib\u001b[0m\u001b[1;33m.\u001b[0m\u001b[0mmap_infer\u001b[0m\u001b[1;33m(\u001b[0m\u001b[0mvalues\u001b[0m\u001b[1;33m,\u001b[0m \u001b[0mf\u001b[0m\u001b[1;33m,\u001b[0m \u001b[0mconvert\u001b[0m\u001b[1;33m=\u001b[0m\u001b[0mconvert_dtype\u001b[0m\u001b[1;33m)\u001b[0m\u001b[1;33m\u001b[0m\u001b[1;33m\u001b[0m\u001b[0m\n\u001b[0m\u001b[0;32m   4139\u001b[0m \u001b[1;33m\u001b[0m\u001b[0m\n\u001b[0;32m   4140\u001b[0m         \u001b[1;32mif\u001b[0m \u001b[0mlen\u001b[0m\u001b[1;33m(\u001b[0m\u001b[0mmapped\u001b[0m\u001b[1;33m)\u001b[0m \u001b[1;32mand\u001b[0m \u001b[0misinstance\u001b[0m\u001b[1;33m(\u001b[0m\u001b[0mmapped\u001b[0m\u001b[1;33m[\u001b[0m\u001b[1;36m0\u001b[0m\u001b[1;33m]\u001b[0m\u001b[1;33m,\u001b[0m \u001b[0mSeries\u001b[0m\u001b[1;33m)\u001b[0m\u001b[1;33m:\u001b[0m\u001b[1;33m\u001b[0m\u001b[1;33m\u001b[0m\u001b[0m\n",
      "\u001b[1;32mpandas\\_libs\\lib.pyx\u001b[0m in \u001b[0;36mpandas._libs.lib.map_infer\u001b[1;34m()\u001b[0m\n",
      "\u001b[1;32m~\\AppData\\Local\\Temp/ipykernel_3284/562398917.py\u001b[0m in \u001b[0;36m<lambda>\u001b[1;34m(x)\u001b[0m\n\u001b[1;32m----> 1\u001b[1;33m \u001b[0mdf\u001b[0m\u001b[1;33m[\u001b[0m\u001b[0mdf\u001b[0m\u001b[1;33m.\u001b[0m\u001b[0mcolumns\u001b[0m\u001b[1;33m[\u001b[0m\u001b[1;36m1\u001b[0m\u001b[1;33m]\u001b[0m\u001b[1;33m]\u001b[0m \u001b[1;33m=\u001b[0m \u001b[0mdf\u001b[0m\u001b[1;33m[\u001b[0m\u001b[0mdf\u001b[0m\u001b[1;33m.\u001b[0m\u001b[0mcolumns\u001b[0m\u001b[1;33m[\u001b[0m\u001b[1;36m1\u001b[0m\u001b[1;33m]\u001b[0m\u001b[1;33m]\u001b[0m\u001b[1;33m.\u001b[0m\u001b[0mapply\u001b[0m\u001b[1;33m(\u001b[0m\u001b[1;32mlambda\u001b[0m \u001b[0mx\u001b[0m\u001b[1;33m:\u001b[0m \u001b[0mx\u001b[0m\u001b[1;33m.\u001b[0m\u001b[0mstr\u001b[0m\u001b[1;33m.\u001b[0m\u001b[0mreplace\u001b[0m\u001b[1;33m(\u001b[0m\u001b[1;34m'Rp'\u001b[0m\u001b[1;33m,\u001b[0m\u001b[1;34m''\u001b[0m\u001b[1;33m)\u001b[0m\u001b[1;33m)\u001b[0m\u001b[1;33m.\u001b[0m\u001b[0mapply\u001b[0m\u001b[1;33m(\u001b[0m\u001b[1;32mlambda\u001b[0m \u001b[0mx\u001b[0m\u001b[1;33m:\u001b[0m \u001b[0mx\u001b[0m\u001b[1;33m.\u001b[0m\u001b[0mstr\u001b[0m\u001b[1;33m.\u001b[0m\u001b[0mreplace\u001b[0m\u001b[1;33m(\u001b[0m\u001b[1;34m'.'\u001b[0m\u001b[1;33m,\u001b[0m\u001b[1;34m''\u001b[0m\u001b[1;33m)\u001b[0m\u001b[1;33m)\u001b[0m\u001b[1;33m.\u001b[0m\u001b[0mastype\u001b[0m\u001b[1;33m(\u001b[0m\u001b[0mnp\u001b[0m\u001b[1;33m.\u001b[0m\u001b[0mfloat\u001b[0m\u001b[1;33m)\u001b[0m\u001b[1;33m\u001b[0m\u001b[1;33m\u001b[0m\u001b[0m\n\u001b[0m",
      "\u001b[1;31mAttributeError\u001b[0m: 'str' object has no attribute 'str'"
     ]
    }
   ],
   "source": [
    "df[df.columns[1]] = df[df.columns[1]].apply(lambda x: x.str.replace('Rp','')).apply(lambda x: x.str.replace('.','')).astype(np.float)"
   ]
  },
  {
   "cell_type": "code",
   "execution_count": null,
   "id": "c759bd6e",
   "metadata": {},
   "outputs": [],
   "source": []
  },
  {
   "cell_type": "code",
   "execution_count": 363,
   "id": "f8ad7d7f",
   "metadata": {},
   "outputs": [
    {
     "data": {
      "text/plain": [
       "0       Rp 20.499.000\n",
       "1       Rp 17.499.000\n",
       "2        Rp12.899.000\n",
       "3           Rp799.000\n",
       "4        Rp16.829.000\n",
       "            ...      \n",
       "4187     Rp20.000.000\n",
       "4188     Rp17.299.000\n",
       "4189     Rp13.599.000\n",
       "4190     Rp17.299.000\n",
       "4191     Rp13.499.000\n",
       "Name: pricing, Length: 4192, dtype: object"
      ]
     },
     "execution_count": 363,
     "metadata": {},
     "output_type": "execute_result"
    }
   ],
   "source": [
    "df[df.columns[1]]"
   ]
  },
  {
   "cell_type": "code",
   "execution_count": null,
   "id": "8fdab291",
   "metadata": {},
   "outputs": [],
   "source": []
  }
 ],
 "metadata": {
  "kernelspec": {
   "display_name": "Python 3 (ipykernel)",
   "language": "python",
   "name": "python3"
  },
  "language_info": {
   "codemirror_mode": {
    "name": "ipython",
    "version": 3
   },
   "file_extension": ".py",
   "mimetype": "text/x-python",
   "name": "python",
   "nbconvert_exporter": "python",
   "pygments_lexer": "ipython3",
   "version": "3.8.12"
  }
 },
 "nbformat": 4,
 "nbformat_minor": 5
}
